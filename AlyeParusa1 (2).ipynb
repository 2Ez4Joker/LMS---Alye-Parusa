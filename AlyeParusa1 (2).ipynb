{
  "nbformat": 4,
  "nbformat_minor": 0,
  "metadata": {
    "colab": {
      "provenance": []
    },
    "kernelspec": {
      "name": "python3",
      "display_name": "Python 3"
    },
    "language_info": {
      "name": "python"
    }
  },
  "cells": [
    {
      "cell_type": "markdown",
      "source": [
        "**Введение**\n",
        "\n",
        "Первый вопрос, который вы можете себе задать: куда я попал?\n",
        "Добро пожаловать в IPython notebook - вычислительную среду, которая совмещает в себе форматированный текст, и выполнения кода. Здесь будут проходить все наши занятия для начинающих.\n",
        "\n"
      ],
      "metadata": {
        "id": "2dnVpD3aNKqx"
      }
    },
    {
      "cell_type": "markdown",
      "source": [
        "Следующий вопрос: а как, и где мне тут вообще писать код и как мне его запускать?\n",
        "Ну тут уже попроще.\n",
        "\n",
        "\n",
        "\n",
        "*   Для того чтобы добавить код, нужно нажать на кнопку **| + Код |**, слева сверху.\n",
        "*   Для того чтобы, его запустить нужно выбрать конкретную ячейку, и сверха слева запустить кнопку запуска.\n",
        "\n",
        "Попробуйте запустить код снизу.\n"
      ],
      "metadata": {
        "id": "fPAPjf8mOqVx"
      }
    },
    {
      "cell_type": "code",
      "execution_count": null,
      "metadata": {
        "id": "E8bpN90yNEBt",
        "colab": {
          "base_uri": "https://localhost:8080/"
        },
        "outputId": "2ff45d91-a4ff-49ff-df59-d4dd8ac40c5e"
      },
      "outputs": [
        {
          "output_type": "stream",
          "name": "stdout",
          "text": [
            "Hello, Alye Parusa\n"
          ]
        }
      ],
      "source": [
        "print(\"Hello, Alye Parusa\")"
      ]
    },
    {
      "cell_type": "markdown",
      "source": [
        "Если вы все сделали правильно, после выполнения кода в ноутбуке появилась фраза 'Hello, Alye Parusa'.\n",
        "Это происходит, потому что мы запускаем функцию print. Она используется для вывода, содержимого в круглых скобках на экран. Помимо работы, с текстом, функция также может работать и с простыми числами. Например:"
      ],
      "metadata": {
        "id": "i0ZE6PV2mMcf"
      }
    },
    {
      "cell_type": "code",
      "source": [
        "print('How can I do ', 17, 9, ' push-ups?')"
      ],
      "metadata": {
        "colab": {
          "base_uri": "https://localhost:8080/"
        },
        "id": "fJekNKAUrjC6",
        "outputId": "85bd5fc5-3e37-4d7f-fdff-b1821f43ced3"
      },
      "execution_count": null,
      "outputs": [
        {
          "output_type": "stream",
          "name": "stdout",
          "text": [
            "How, can i do  17 9  pushups\n"
          ]
        }
      ]
    },
    {
      "cell_type": "markdown",
      "source": [
        "Мы передали нашей функции 4 элемента: 2 строки с текстом и 2 числа, и как вы можете наблюдать, print успешно нам все эти элементы вывел. Заметим, что каждый элемент отделился от другого при помощи пробела. Мы можем повлиять на эту особенность данной функции при помощи встроенного в нее параметра sep."
      ],
      "metadata": {
        "id": "-Zbko9OHsNea"
      }
    },
    {
      "cell_type": "code",
      "source": [
        "print('How can I do ', 17, 9, ' push-ups?', sep='|')"
      ],
      "metadata": {
        "colab": {
          "base_uri": "https://localhost:8080/"
        },
        "id": "0MaZ_E0QsJ6z",
        "outputId": "92658aef-c7a0-4d4f-a7d5-4e3d9f00a170"
      },
      "execution_count": null,
      "outputs": [
        {
          "output_type": "stream",
          "name": "stdout",
          "text": [
            "How can I do |17|9| push-ups?\n"
          ]
        }
      ]
    },
    {
      "cell_type": "code",
      "source": [
        "print('How can I do ', 17, 9, ' push-ups?', sep='')"
      ],
      "metadata": {
        "colab": {
          "base_uri": "https://localhost:8080/"
        },
        "id": "fUIAcUt2ukCF",
        "outputId": "fdc4348c-f4e3-49fa-ebe0-844d5404f504"
      },
      "execution_count": null,
      "outputs": [
        {
          "output_type": "stream",
          "name": "stdout",
          "text": [
            "How can I do 179 push-ups?\n"
          ]
        }
      ]
    },
    {
      "cell_type": "markdown",
      "source": [
        "Кроме того, print(), как и другие функции языка python, способен высчитывать маетматику внутри скобках. Так например передав на вход выражение типа 2+2 он посчитает его внутри и выведет сразу ответ:"
      ],
      "metadata": {
        "id": "wjNnHzFft9eS"
      }
    },
    {
      "cell_type": "code",
      "source": [
        "print(2+2)"
      ],
      "metadata": {
        "colab": {
          "base_uri": "https://localhost:8080/"
        },
        "id": "YfSuZBjwt81B",
        "outputId": "2c4faf4c-5d36-4467-9a0f-f36b0d5084ed"
      },
      "execution_count": null,
      "outputs": [
        {
          "output_type": "stream",
          "name": "stdout",
          "text": [
            "4\n"
          ]
        }
      ]
    },
    {
      "cell_type": "markdown",
      "source": [
        "Помимо очевидных арифметических сложения, вычитания и прочих, в питоне можно также применять и менее очевидные функции. Пойдем по порядку и начнем со степени."
      ],
      "metadata": {
        "id": "6oXoMYB6u9fz"
      }
    },
    {
      "cell_type": "code",
      "source": [
        "print(2**10)"
      ],
      "metadata": {
        "colab": {
          "base_uri": "https://localhost:8080/"
        },
        "id": "TToEJvx1u8fS",
        "outputId": "50158071-d401-40ec-fdc8-463ee22cf018"
      },
      "execution_count": null,
      "outputs": [
        {
          "output_type": "stream",
          "name": "stdout",
          "text": [
            "1024\n"
          ]
        }
      ]
    },
    {
      "cell_type": "markdown",
      "source": [
        "Также есть возможность найти минимальное, или максимальные числа при помощи функций min и max соответвенно."
      ],
      "metadata": {
        "id": "ebYsjRbNv_gC"
      }
    },
    {
      "cell_type": "code",
      "source": [
        "print(min(20,57))\n",
        "print(max(13,3,7,31))\n"
      ],
      "metadata": {
        "colab": {
          "base_uri": "https://localhost:8080/"
        },
        "id": "xs-H4MYIv9jV",
        "outputId": "ea0f1103-c79d-43b6-83fb-d05727de643b"
      },
      "execution_count": null,
      "outputs": [
        {
          "output_type": "stream",
          "name": "stdout",
          "text": [
            "20\n",
            "31\n"
          ]
        }
      ]
    },
    {
      "cell_type": "markdown",
      "source": [
        "Функция round выводит наиболее близкое целое число, к введенному по правилам математического округления.\n"
      ],
      "metadata": {
        "id": "UXVntIJiw219"
      }
    },
    {
      "cell_type": "code",
      "source": [
        "print(round(39/4))"
      ],
      "metadata": {
        "colab": {
          "base_uri": "https://localhost:8080/"
        },
        "id": "K2RC1tgVwvvH",
        "outputId": "f38441d7-fe19-4457-8b7c-b1ebcdf8234e"
      },
      "execution_count": null,
      "outputs": [
        {
          "output_type": "stream",
          "name": "stdout",
          "text": [
            "10\n"
          ]
        }
      ]
    },
    {
      "cell_type": "markdown",
      "source": [
        "А функция abs выведет модуль числа в скобках."
      ],
      "metadata": {
        "id": "a5bhzwQuxuBV"
      }
    },
    {
      "cell_type": "code",
      "source": [
        "print(abs(-2))"
      ],
      "metadata": {
        "colab": {
          "base_uri": "https://localhost:8080/"
        },
        "id": "KhgSKAcXxtk9",
        "outputId": "ae613cfd-4035-4821-b23b-b9aae9e2fb72"
      },
      "execution_count": null,
      "outputs": [
        {
          "output_type": "stream",
          "name": "stdout",
          "text": [
            "2\n"
          ]
        }
      ]
    },
    {
      "cell_type": "markdown",
      "source": [
        "Есть и другие, но на первое время вам хватит. Пришло время применить полученные знания на практике.\n"
      ],
      "metadata": {
        "id": "eri1xmXNyDgR"
      }
    },
    {
      "cell_type": "markdown",
      "source": [
        "**Задача 1**\n",
        "\n",
        "Выведите, наибольшее число среди $5^{10}$,  $3^{17}$,  $2^{25}$ одной фукнцией."
      ],
      "metadata": {
        "id": "NyiJiyVTmxGU"
      }
    },
    {
      "cell_type": "code",
      "source": [
        "# your code here :)"
      ],
      "metadata": {
        "id": "YGl4mIfGxre1"
      },
      "execution_count": null,
      "outputs": []
    },
    {
      "cell_type": "markdown",
      "source": [
        "Помимо того, как выводить информацию, у python (как и у всех уважаемых языков) есть возможность вводить информацию. Это выполняется при помощи команды input(), с последующей записью того что вы ввели в переменную.\n",
        "\n",
        "Что такое переменная? Переменная это по сути своей ячейка памяти, куда мы можем ввести некоторую информацию, для того что-бы в последствии на нее ссылатся.\n",
        "\n",
        "Например:"
      ],
      "metadata": {
        "id": "zhv_RM822F4g"
      }
    },
    {
      "cell_type": "code",
      "source": [
        "number = 5\n",
        "print(number)"
      ],
      "metadata": {
        "colab": {
          "base_uri": "https://localhost:8080/"
        },
        "id": "mhJVnb7jciD9",
        "outputId": "26d772bd-238a-471b-aae4-69208419d498"
      },
      "execution_count": null,
      "outputs": [
        {
          "output_type": "stream",
          "name": "stdout",
          "text": [
            "5\n"
          ]
        }
      ]
    },
    {
      "cell_type": "markdown",
      "source": [
        "С переменными, так же можно проводить математичекские операции и записывать их результат внутрь этих переменных. При этом переменные и сами могут использоватся для расчета."
      ],
      "metadata": {
        "id": "3K1UvlqFdK3f"
      }
    },
    {
      "cell_type": "code",
      "source": [
        "number = 5\n",
        "print(number)\n",
        "number = number + 2\n",
        "print(number)"
      ],
      "metadata": {
        "colab": {
          "base_uri": "https://localhost:8080/"
        },
        "id": "5kkO5jUMd8Xn",
        "outputId": "d18ec1eb-153c-443a-d8a1-a669ab178d9e"
      },
      "execution_count": null,
      "outputs": [
        {
          "output_type": "stream",
          "name": "stdout",
          "text": [
            "5\n",
            "7\n"
          ]
        }
      ]
    },
    {
      "cell_type": "markdown",
      "source": [
        "Помимо записи целых чисел, в переменную можно записывать и другие типы данных. При этой как таковой, строгой типизации нет, что означает, что мы не обязаны указывать какой тип переменной мы создаем, python подтягивает это самостоятельно. Какие бывают типы данных:\n",
        "\n",
        "*   int - целое число\n",
        "*   float - дробное число\n",
        "*   string - строка символов\n",
        "*   bool - булева переменная, принимающая значения либо **True**, либо **False**\n",
        "\n",
        "При объявлении переменной, она зачастую сама понимает, то кем она должна быть:"
      ],
      "metadata": {
        "id": "wMipG8KReX6b"
      }
    },
    {
      "cell_type": "code",
      "source": [
        "number = 5 #int\n",
        "digit = 4.5 #float\n",
        "word = 'Результат:' #string\n",
        "boolean = False #bool\n",
        "\n",
        "print(word,digit)"
      ],
      "metadata": {
        "colab": {
          "base_uri": "https://localhost:8080/"
        },
        "id": "s2FwrEabeQr2",
        "outputId": "ff889f5c-b058-44c2-f697-6284a6c4aebc"
      },
      "execution_count": null,
      "outputs": [
        {
          "output_type": "stream",
          "name": "stdout",
          "text": [
            "Результат: 4.5\n"
          ]
        }
      ]
    },
    {
      "cell_type": "markdown",
      "source": [
        "Теперь, когда с этим разобрались, можем вернутся к вводу данных. Функция input(), получает на вхоl от пользователя строку символов, и записывает ее в переменную. Когда вы хотите записать именно число, стоит сделать преобразование из string в int. Если этого не сделать вы рискуете оказатся в следующей ситации:"
      ],
      "metadata": {
        "id": "7AQUOFdIcp91"
      }
    },
    {
      "cell_type": "code",
      "source": [
        "a = input()\n",
        "print(a)\n",
        "a = a * 2\n",
        "print(a)"
      ],
      "metadata": {
        "colab": {
          "base_uri": "https://localhost:8080/"
        },
        "id": "PIm7jpBd14u4",
        "outputId": "843e4c12-e94b-4cdc-eb9a-a05fd8913a9c"
      },
      "execution_count": null,
      "outputs": [
        {
          "output_type": "stream",
          "name": "stdout",
          "text": [
            "5\n",
            "5\n",
            "55\n"
          ]
        }
      ]
    },
    {
      "cell_type": "markdown",
      "source": [
        "Как видно из примера, input() изначально записывает, то что он получил от пользователя как строку, а не как число. Поэтому при попытке умножения на 2 он просто продублировал строку. Для того чтобы этого избежать нужно преобразовать полученную строку в число. Для преобразований в python используется следующие функции int(), float(), str() и bool(). Каждая из них преобразует, то что лежит в скобках в свой тип данных, если это возможно. Давайте исправим код написанный выше."
      ],
      "metadata": {
        "id": "5afWDhSPH12a"
      }
    },
    {
      "cell_type": "code",
      "source": [
        "a = int(input())\n",
        "print(a)\n",
        "a = a * 2\n",
        "print(a)"
      ],
      "metadata": {
        "colab": {
          "base_uri": "https://localhost:8080/"
        },
        "id": "qUehpgx6lzNm",
        "outputId": "903b956c-aa07-4d3b-8754-50cf1ef16f39"
      },
      "execution_count": null,
      "outputs": [
        {
          "output_type": "stream",
          "name": "stdout",
          "text": [
            "5\n",
            "5\n",
            "10\n"
          ]
        }
      ]
    },
    {
      "cell_type": "markdown",
      "source": [
        "**Задача 2**\n",
        "\n",
        "Для двух чисел полученных на вход от пользователя, выведите результат выполнения всех стандартных арифметических операций."
      ],
      "metadata": {
        "id": "VCEPrmwnmAFv"
      }
    },
    {
      "cell_type": "code",
      "source": [
        "#your code here :)"
      ],
      "metadata": {
        "id": "jbhBdcM3mk0k"
      },
      "execution_count": null,
      "outputs": []
    },
    {
      "cell_type": "markdown",
      "source": [],
      "metadata": {
        "id": "Lzr31jEJmuKj"
      }
    },
    {
      "cell_type": "markdown",
      "source": [
        "**Условные конструкции**\n",
        "\n",
        "Благодаря условным конструкциям мы можем проверить некоторое выражение. Если оно окажется верным, то  мы выолним один кусочек кода. Если оно окажется неверным, мы выполним другой кусочек кода."
      ],
      "metadata": {
        "id": "rhmI8QV3m2_2"
      }
    },
    {
      "cell_type": "code",
      "source": [
        "if 5 == 5:\n",
        "    print(\"Equation is right\")"
      ],
      "metadata": {
        "colab": {
          "base_uri": "https://localhost:8080/"
        },
        "id": "zpLC5u_Um1oh",
        "outputId": "ab5aa8d0-79c6-45dc-9515-98f735389601"
      },
      "execution_count": null,
      "outputs": [
        {
          "output_type": "stream",
          "name": "stdout",
          "text": [
            "Equation is right\n"
          ]
        }
      ]
    },
    {
      "cell_type": "code",
      "source": [
        "if 4 == 5:\n",
        "    print(\"Equation is right\")"
      ],
      "metadata": {
        "id": "o4Yq88yvrkKX"
      },
      "execution_count": null,
      "outputs": []
    },
    {
      "cell_type": "markdown",
      "source": [
        "Функция print, выводит только в том случае, если информация после if правдива.\n",
        "\n",
        "Здесь вывод нашей условного конструкции очевиден, и ни что на него не вляет, и из-за этого в целом данную конструкцию можно считать бессмысленной, ведь все можно предрасчитать заранее. Другое дело, когда в условие добавляются переменные.\n"
      ],
      "metadata": {
        "id": "rDgFSKoFrp5J"
      }
    },
    {
      "cell_type": "code",
      "source": [
        "a = int(input())\n",
        "if a >= 5:\n",
        "    print(\"Number\", a ,'is bigger or equal', 5)"
      ],
      "metadata": {
        "id": "hzigVOvBI2dM"
      },
      "execution_count": null,
      "outputs": []
    },
    {
      "cell_type": "markdown",
      "source": [
        "Теперь программа зависит от числа, которое введет пользователь. В том случае, если оно больше или равно 5 предоставляет вывод. Давайте также добавим вывод, в том случае, когда оно меньше 5. Для этого добавим else к нашей условной конструкции."
      ],
      "metadata": {
        "id": "iqw63fXWJMuK"
      }
    },
    {
      "cell_type": "code",
      "source": [
        "a = int(input())\n",
        "if a >= 5:\n",
        "    print(\"Number\", a ,'is bigger or equal', 5)\n",
        "else:\n",
        "    print(\"Number\", a ,'is less than', 5)"
      ],
      "metadata": {
        "colab": {
          "base_uri": "https://localhost:8080/"
        },
        "id": "6eNbkcV6K9nj",
        "outputId": "58cfa3fc-1861-40a6-f821-814f25d77edc"
      },
      "execution_count": null,
      "outputs": [
        {
          "output_type": "stream",
          "name": "stdout",
          "text": [
            "1\n",
            "Number 1 is less than 5\n"
          ]
        }
      ]
    },
    {
      "cell_type": "markdown",
      "source": [
        "**Задача 3**\n",
        "Пользователь вводит 2 числа a и b. Нужно проверить делится ли a нацело на b.\n",
        "(Для того чтобы найти остаток от деления a на b, используется оператор %. Тоесть запись a%b выведет остаток от деления числа a на b)\n",
        "\n"
      ],
      "metadata": {
        "id": "TJvsR-D4uLUj"
      }
    },
    {
      "cell_type": "code",
      "source": [
        "#your code here :)"
      ],
      "metadata": {
        "id": "jn3q7OHQsqtx"
      },
      "execution_count": null,
      "outputs": []
    },
    {
      "cell_type": "markdown",
      "source": [
        "**Циклы**"
      ],
      "metadata": {
        "id": "v1jql4Svnwoi"
      }
    },
    {
      "cell_type": "markdown",
      "source": [
        "Циклы - конструкция, которая используется для повторения некоторой функций несколько раз. Например:"
      ],
      "metadata": {
        "id": "GyeH3DSdus4c"
      }
    },
    {
      "cell_type": "code",
      "source": [
        "a = int(input())\n",
        "while a > 0:\n",
        "    print('Hello')\n",
        "    a = a-1"
      ],
      "metadata": {
        "colab": {
          "base_uri": "https://localhost:8080/"
        },
        "id": "2JgSsVRPutSG",
        "outputId": "404bb22a-c78b-4c6a-b63c-9756546f7803"
      },
      "execution_count": null,
      "outputs": [
        {
          "output_type": "stream",
          "name": "stdout",
          "text": [
            "2\n",
            "Hello\n",
            "Hello\n"
          ]
        }
      ]
    },
    {
      "cell_type": "markdown",
      "source": [
        "Код сверху реализует цикл, который выводит Hello, столько раз сколько напишет пользователь. Работает он по следующему принципу. Так же как и if, while выполняет операции, которые обособлены отступом. В данном случае он выполняет вывод фразы при помощи print и уменьшение числа a на единицу. После того как он выполняет эти операции, он запускает проверку на истинность для выражения написаного после while. В данном случае это a>0. Это значит, что пока, a не будет меньше или равно 0, этот код будет писать фразу и уменьшать a на единицу."
      ],
      "metadata": {
        "id": "RH7a557_M2mn"
      }
    },
    {
      "cell_type": "markdown",
      "source": [
        "**Задача 4**\n",
        "Пользователь вводит a. Найдите a!"
      ],
      "metadata": {
        "id": "ddrfU6XKsyO5"
      }
    },
    {
      "cell_type": "markdown",
      "source": [
        "**Задача 5**\n",
        "Пользователь вводит число a. Выведете все делители числа а.\n"
      ],
      "metadata": {
        "id": "JO2kMw8BtIDy"
      }
    },
    {
      "cell_type": "markdown",
      "source": [
        "**Задача 6**\n",
        "Пользователь вводит числа до тех пор, пока новое введенное число не будет меньше, чем предыдущее введенное число."
      ],
      "metadata": {
        "id": "4YnV-nERPrzS"
      }
    },
    {
      "cell_type": "markdown",
      "source": [
        "**Задача 7**\n",
        "Пользователь вводит число а. Нужно опеределить какой день недели был 1 января, а-ого года."
      ],
      "metadata": {
        "id": "-zPTekFItIYj"
      }
    }
  ]
}